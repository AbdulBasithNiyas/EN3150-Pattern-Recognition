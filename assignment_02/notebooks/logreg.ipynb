{
 "cells": [
  {
   "cell_type": "markdown",
   "id": "2f5c0a52",
   "metadata": {},
   "source": [
    "# Question 02"
   ]
  },
  {
   "cell_type": "code",
   "execution_count": 30,
   "id": "7f6d8e04",
   "metadata": {},
   "outputs": [],
   "source": [
    "import seaborn as sns\n",
    "import pandas as pd\n",
    "from sklearn.model_selection import train_test_split\n",
    "from sklearn.preprocessing import LabelEncoder\n",
    "from sklearn.linear_model import LogisticRegression\n",
    "from sklearn.metrics import accuracy_score\n",
    "\n",
    "# Load the penguins dataset\n",
    "df = sns.load_dataset(\"penguins\")\n",
    "df.dropna(inplace=True)\n",
    "\n",
    "# Filter rows for 'Adelie' and 'Chinstrap' classes\n",
    "selected_classes = ['Adelie', 'Chinstrap']\n",
    "df_filtered = df[df['species'].isin(selected_classes)].copy()\n",
    "\n",
    "# Initialize the LabelEncoder\n",
    "le = LabelEncoder()\n",
    "\n",
    "# Encode the species column\n",
    "y_encoded = le.fit_transform(df_filtered['species'])\n",
    "df_filtered['class_encoded'] = y_encoded"
   ]
  },
  {
   "cell_type": "code",
   "execution_count": 31,
   "id": "54244a14",
   "metadata": {},
   "outputs": [
    {
     "name": "stdout",
     "output_type": "stream",
     "text": [
      "       species     island  bill_length_mm  bill_depth_mm  flipper_length_mm  \\\n",
      "0       Adelie  Torgersen            39.1           18.7              181.0   \n",
      "1       Adelie  Torgersen            39.5           17.4              186.0   \n",
      "2       Adelie  Torgersen            40.3           18.0              195.0   \n",
      "4       Adelie  Torgersen            36.7           19.3              193.0   \n",
      "5       Adelie  Torgersen            39.3           20.6              190.0   \n",
      "..         ...        ...             ...            ...                ...   \n",
      "215  Chinstrap      Dream            55.8           19.8              207.0   \n",
      "216  Chinstrap      Dream            43.5           18.1              202.0   \n",
      "217  Chinstrap      Dream            49.6           18.2              193.0   \n",
      "218  Chinstrap      Dream            50.8           19.0              210.0   \n",
      "219  Chinstrap      Dream            50.2           18.7              198.0   \n",
      "\n",
      "     body_mass_g     sex  class_encoded  \n",
      "0         3750.0    Male              0  \n",
      "1         3800.0  Female              0  \n",
      "2         3250.0  Female              0  \n",
      "4         3450.0  Female              0  \n",
      "5         3650.0    Male              0  \n",
      "..           ...     ...            ...  \n",
      "215       4000.0    Male              1  \n",
      "216       3400.0  Female              1  \n",
      "217       3775.0    Male              1  \n",
      "218       4100.0    Male              1  \n",
      "219       3775.0  Female              1  \n",
      "\n",
      "[214 rows x 8 columns]\n"
     ]
    }
   ],
   "source": [
    "print(df_filtered)"
   ]
  },
  {
   "cell_type": "code",
   "execution_count": 32,
   "id": "18a392ad",
   "metadata": {},
   "outputs": [
    {
     "name": "stdout",
     "output_type": "stream",
     "text": [
      "       species  class_encoded\n",
      "0       Adelie              0\n",
      "1       Adelie              0\n",
      "2       Adelie              0\n",
      "4       Adelie              0\n",
      "5       Adelie              0\n",
      "..         ...            ...\n",
      "215  Chinstrap              1\n",
      "216  Chinstrap              1\n",
      "217  Chinstrap              1\n",
      "218  Chinstrap              1\n",
      "219  Chinstrap              1\n",
      "\n",
      "[214 rows x 2 columns]\n"
     ]
    }
   ],
   "source": [
    "# Display the filtered and encoded DataFrame\n",
    "print(df_filtered[['species', 'class_encoded']])\n",
    "\n",
    "# Split the data into features (X) and target variable (y)\n",
    "y = df_filtered['class_encoded']  # Target variable\n",
    "# X = df_filtered.drop(['class_encoded'], axis=1)  # Features\n",
    "\n",
    "# After encoding the target, select only NUMERICAL columns for features\n",
    "X = df_filtered.select_dtypes(include=['number']).drop(['class_encoded'], axis=1)"
   ]
  },
  {
   "cell_type": "code",
   "execution_count": 33,
   "id": "ee87fedb",
   "metadata": {},
   "outputs": [
    {
     "name": "stdout",
     "output_type": "stream",
     "text": [
      "Accuracy: 0.5813953488372093\n",
      "Learned weights (coefficients): [[ 2.76147463e-03 -8.21753401e-05  4.67173456e-04 -2.86833709e-04]]\n",
      "Intercept: [-8.43902417e-06]\n"
     ]
    },
    {
     "name": "stderr",
     "output_type": "stream",
     "text": [
      "/Users/macbookm1/Documents/GitHub/EN3150-Pattern-Recognition/.venv/lib/python3.11/site-packages/sklearn/linear_model/_sag.py:348: ConvergenceWarning: The max_iter was reached which means the coef_ did not converge\n",
      "  warnings.warn(\n"
     ]
    }
   ],
   "source": [
    "# Split the data into training and testing sets\n",
    "X_train, X_test, y_train, y_test = train_test_split(\n",
    "    X, y, test_size=0.2, random_state=42\n",
    ")\n",
    "\n",
    "# Train the logistic regression model using 'saga' solver\n",
    "logreg = LogisticRegression(solver='saga')\n",
    "logreg.fit(X_train, y_train)\n",
    "\n",
    "# Predict on the test data\n",
    "y_pred = logreg.predict(X_test)\n",
    "\n",
    "# Evaluate the model\n",
    "accuracy = accuracy_score(y_test, y_pred)\n",
    "print(\"Accuracy:\", accuracy)\n",
    "print(\"Learned weights (coefficients):\", logreg.coef_)\n",
    "print(\"Intercept:\", logreg.intercept_)"
   ]
  },
  {
   "cell_type": "code",
   "execution_count": 34,
   "id": "0d17bf73",
   "metadata": {},
   "outputs": [
    {
     "name": "stdout",
     "output_type": "stream",
     "text": [
      "Accuracy with 'liblinear': 1.0000\n"
     ]
    }
   ],
   "source": [
    "# Train with 'liblinear' solver\n",
    "logreg_liblinear = LogisticRegression(solver='liblinear', random_state=42)\n",
    "logreg_liblinear.fit(X_train, y_train)\n",
    "y_pred_liblinear = logreg_liblinear.predict(X_test)\n",
    "accuracy_liblinear = accuracy_score(y_test, y_pred_liblinear)\n",
    "print(f\"Accuracy with 'liblinear': {accuracy_liblinear:.4f}\")"
   ]
  },
  {
   "cell_type": "code",
   "execution_count": 35,
   "id": "f8c501a3",
   "metadata": {},
   "outputs": [
    {
     "name": "stdout",
     "output_type": "stream",
     "text": [
      "Accuracy with 'saga' (scaled): 0.9767\n",
      "Accuracy with 'liblinear' (scaled): 0.9767\n"
     ]
    }
   ],
   "source": [
    "from sklearn.preprocessing import StandardScaler\n",
    "\n",
    "# Create a scaler\n",
    "scaler = StandardScaler()\n",
    "\n",
    "# Fit the scaler on the training data and transform both train and test\n",
    "X_train_scaled = scaler.fit_transform(X_train)\n",
    "X_test_scaled = scaler.transform(X_test)\n",
    "\n",
    "# Train with 'saga' on scaled data\n",
    "logreg_saga_scaled = LogisticRegression(\n",
    "    solver='saga', max_iter=1000, random_state=42)\n",
    "logreg_saga_scaled.fit(X_train_scaled, y_train)\n",
    "y_pred_saga_scaled = logreg_saga_scaled.predict(X_test_scaled)\n",
    "accuracy_saga_scaled = accuracy_score(y_test, y_pred_saga_scaled)\n",
    "\n",
    "# Train with 'liblinear' on scaled data\n",
    "logreg_liblinear_scaled = LogisticRegression(\n",
    "    solver='liblinear', random_state=42)\n",
    "logreg_liblinear_scaled.fit(X_train_scaled, y_train)\n",
    "y_pred_liblinear_scaled = logreg_liblinear_scaled.predict(X_test_scaled)\n",
    "accuracy_liblinear_scaled = accuracy_score(y_test, y_pred_liblinear_scaled)\n",
    "\n",
    "print(f\"Accuracy with 'saga' (scaled): {accuracy_saga_scaled:.4f}\")\n",
    "print(f\"Accuracy with 'liblinear' (scaled): {accuracy_liblinear_scaled:.4f}\")"
   ]
  }
 ],
 "metadata": {
  "kernelspec": {
   "display_name": ".venv",
   "language": "python",
   "name": "python3"
  },
  "language_info": {
   "codemirror_mode": {
    "name": "ipython",
    "version": 3
   },
   "file_extension": ".py",
   "mimetype": "text/x-python",
   "name": "python",
   "nbconvert_exporter": "python",
   "pygments_lexer": "ipython3",
   "version": "3.11.3"
  }
 },
 "nbformat": 4,
 "nbformat_minor": 5
}
